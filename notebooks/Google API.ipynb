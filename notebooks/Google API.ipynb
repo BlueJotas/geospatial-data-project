{
 "cells": [
  {
   "cell_type": "markdown",
   "metadata": {},
   "source": [
    "#### The only point that we accomplished with our mongo database \"companies\" was finding all the startups near to our chosen location that have already raised 1 Million dollars, so now we need to obtain the 3 points left from our Google API.\n",
    "### Here are the rest of the things that we need to find:\n",
    "\n",
    "- 30% of the company staff have at least 1 child. (schools close)\n",
    "- An Airport\n",
    "- Vegan restaurant\n",
    "\n",
    "#### The place we've selected is in San José (CA), we've decided to place our company there because there's so many startups that have already raised 1M dollars and we think we can accomplish the rest of the criteria there."
   ]
  },
  {
   "cell_type": "code",
   "execution_count": 265,
   "metadata": {},
   "outputs": [],
   "source": [
    "import requests\n",
    "from dotenv import load_dotenv\n",
    "import os\n",
    "import pandas as pd\n",
    "import folium\n",
    "from folium import Choropleth, Circle, Marker, Icon, Map"
   ]
  },
  {
   "cell_type": "code",
   "execution_count": 106,
   "metadata": {
    "scrolled": true
   },
   "outputs": [
    {
     "data": {
      "text/plain": [
       "True"
      ]
     },
     "execution_count": 106,
     "metadata": {},
     "output_type": "execute_result"
    }
   ],
   "source": [
    "# We load our Google Places API key:\n",
    "load_dotenv()"
   ]
  },
  {
   "cell_type": "code",
   "execution_count": 181,
   "metadata": {},
   "outputs": [],
   "source": [
    "# We store the key in our variable \"tok\".\n",
    "tok = os.getenv(\"My_key\")"
   ]
  },
  {
   "cell_type": "code",
   "execution_count": 112,
   "metadata": {},
   "outputs": [],
   "source": [
    "# Let's look for an airport nearby our selected location:\n",
    "# The selected radius is 20km around.\n",
    "url = f'https://maps.googleapis.com/maps/api/place/nearbysearch/json?location=37.370036,-121.963527&radius=20000&type=airport&key={tok}'"
   ]
  },
  {
   "cell_type": "code",
   "execution_count": 113,
   "metadata": {},
   "outputs": [],
   "source": [
    "# We store the response from the server in our variable \"response\".\n",
    "response = requests.get(url)"
   ]
  },
  {
   "cell_type": "code",
   "execution_count": 139,
   "metadata": {},
   "outputs": [
    {
     "data": {
      "text/plain": [
       "200"
      ]
     },
     "execution_count": 139,
     "metadata": {},
     "output_type": "execute_result"
    }
   ],
   "source": [
    "response.status_code\n",
    "# We got access!"
   ]
  },
  {
   "cell_type": "code",
   "execution_count": 164,
   "metadata": {},
   "outputs": [],
   "source": [
    "from functools import reduce\n",
    "import operator"
   ]
  },
  {
   "cell_type": "code",
   "execution_count": 234,
   "metadata": {
    "scrolled": false
   },
   "outputs": [],
   "source": [
    "# We start to get into the .json file step by step and accessing to our desired values:\n",
    "data = response.json()\n",
    "g = data[\"results\"]\n",
    "ge = g[0]\n",
    "l = ge[\"geometry\"]\n",
    "l1 = ge[\"geometry\"]\n",
    "name = ge[\"name\"]\n",
    "la = l[\"location\"]\n",
    "lo = l1[\"location\"]\n",
    "lat = la[\"lat\"]\n",
    "lon = lo[\"lng\"]"
   ]
  },
  {
   "cell_type": "code",
   "execution_count": 235,
   "metadata": {},
   "outputs": [],
   "source": [
    "# Now we list a new dict with our selected keys and values in order to print a simple dataframe with just the useful\n",
    "# info from the airport that we need!\n",
    "lst = []\n",
    "tolist = {}\n",
    "tolist[\"name\"] = name\n",
    "tolist[\"latitud\"] = lat\n",
    "tolist[\"longitud\"] = lon\n",
    "lst.append(tolist)"
   ]
  },
  {
   "cell_type": "code",
   "execution_count": 236,
   "metadata": {},
   "outputs": [
    {
     "data": {
      "text/html": [
       "<div>\n",
       "<style scoped>\n",
       "    .dataframe tbody tr th:only-of-type {\n",
       "        vertical-align: middle;\n",
       "    }\n",
       "\n",
       "    .dataframe tbody tr th {\n",
       "        vertical-align: top;\n",
       "    }\n",
       "\n",
       "    .dataframe thead th {\n",
       "        text-align: right;\n",
       "    }\n",
       "</style>\n",
       "<table border=\"1\" class=\"dataframe\">\n",
       "  <thead>\n",
       "    <tr style=\"text-align: right;\">\n",
       "      <th></th>\n",
       "      <th>name</th>\n",
       "      <th>latitud</th>\n",
       "      <th>longitud</th>\n",
       "    </tr>\n",
       "  </thead>\n",
       "  <tbody>\n",
       "    <tr>\n",
       "      <th>0</th>\n",
       "      <td>Norman Y. Mineta San Jose International Airport</td>\n",
       "      <td>37.363947</td>\n",
       "      <td>-121.928938</td>\n",
       "    </tr>\n",
       "  </tbody>\n",
       "</table>\n",
       "</div>"
      ],
      "text/plain": [
       "                                              name    latitud    longitud\n",
       "0  Norman Y. Mineta San Jose International Airport  37.363947 -121.928938"
      ]
     },
     "execution_count": 236,
     "metadata": {},
     "output_type": "execute_result"
    }
   ],
   "source": [
    "# Let's see the framed info:\n",
    "df = pd.DataFrame(lst)\n",
    "df"
   ]
  },
  {
   "cell_type": "code",
   "execution_count": 276,
   "metadata": {},
   "outputs": [],
   "source": [
    "# Now that we got that out of the way, let's look for a vegan restaurant nearby our selected location:\n",
    "# The selected radius is also 20km around.\n",
    "url1 = f'https://maps.googleapis.com/maps/api/place/nearbysearch/json?location=37.370036,-121.963527&radius=20000&type=restaurant&key={tok}'"
   ]
  },
  {
   "cell_type": "code",
   "execution_count": 277,
   "metadata": {},
   "outputs": [],
   "source": [
    "response1 = requests.get(url1)"
   ]
  },
  {
   "cell_type": "code",
   "execution_count": 278,
   "metadata": {},
   "outputs": [
    {
     "data": {
      "text/plain": [
       "200"
      ]
     },
     "execution_count": 278,
     "metadata": {},
     "output_type": "execute_result"
    }
   ],
   "source": [
    "response1.status_code"
   ]
  },
  {
   "cell_type": "code",
   "execution_count": 279,
   "metadata": {},
   "outputs": [],
   "source": [
    "data1 = response1.json()"
   ]
  },
  {
   "cell_type": "code",
   "execution_count": 291,
   "metadata": {},
   "outputs": [
    {
     "data": {
      "text/plain": [
       "{'business_status': 'OPERATIONAL',\n",
       " 'geometry': {'location': {'lat': 37.3217554, 'lng': -121.9482488},\n",
       "  'viewport': {'northeast': {'lat': 37.32312228029149,\n",
       "    'lng': -121.9468452697085},\n",
       "   'southwest': {'lat': 37.32042431970849, 'lng': -121.9495432302915}}},\n",
       " 'icon': 'https://maps.gstatic.com/mapfiles/place_api/icons/v1/png_71/restaurant-71.png',\n",
       " 'name': 'Straits',\n",
       " 'opening_hours': {'open_now': False},\n",
       " 'photos': [{'height': 3024,\n",
       "   'html_attributions': ['<a href=\"https://maps.google.com/maps/contrib/115633645091529512457\">Reality Studio LLC</a>'],\n",
       "   'photo_reference': 'ATtYBwLSVS-ldN3rLZBv2NTR2t9nRJhc0Wxg3QnaDxpyVT_dMHEQYSHpJQ5kI2CYnnUGKns_yC3MJQhEDQUQ-wYQuEh4tF-bRJpOfRuU1H1iRKufvidpZQTJxA8KB8gw4rXDw41bLhrMv0pUXK0dJYBwh1TDbNmG2kJiYCqomFYZyYv8Zo_w',\n",
       "   'width': 4032}],\n",
       " 'place_id': 'ChIJX76EBeDKj4ARDMTabmSeUR8',\n",
       " 'plus_code': {'compound_code': '83C2+PP San Jose, CA, USA',\n",
       "  'global_code': '849W83C2+PP'},\n",
       " 'price_level': 2,\n",
       " 'rating': 3.9,\n",
       " 'reference': 'ChIJX76EBeDKj4ARDMTabmSeUR8',\n",
       " 'scope': 'GOOGLE',\n",
       " 'types': ['bar', 'restaurant', 'food', 'point_of_interest', 'establishment'],\n",
       " 'user_ratings_total': 762,\n",
       " 'vicinity': '333 Santana Row #1100, San Jose'}"
      ]
     },
     "execution_count": 291,
     "metadata": {},
     "output_type": "execute_result"
    }
   ],
   "source": [
    "h = data1[\"results\"]\n",
    "h_ = h[10]\n",
    "h_\n",
    "# This is the selected restaurant which has a vegetarian menu."
   ]
  },
  {
   "cell_type": "code",
   "execution_count": 238,
   "metadata": {},
   "outputs": [],
   "source": [
    "# We start to get into the .json file step by step and accessing to our desired values too:\n",
    "l_1 = h_[\"geometry\"]\n",
    "l_2 = h_[\"geometry\"]\n",
    "name_1 = h_[\"name\"]\n",
    "la_1 = l_1[\"location\"]\n",
    "lo_1 = l_2[\"location\"]\n",
    "lat_1 = la_1[\"lat\"]\n",
    "lon_1 = lo_1[\"lng\"]"
   ]
  },
  {
   "cell_type": "code",
   "execution_count": 239,
   "metadata": {},
   "outputs": [],
   "source": [
    "# We put the selected values inside a dict again and list it:\n",
    "lst_1 = []\n",
    "tolist_1 = {}\n",
    "tolist_1[\"name\"] = name_1\n",
    "tolist_1[\"latitud\"] = lat_1\n",
    "tolist_1[\"longitud\"] = lon_1\n",
    "lst_1.append(tolist_1)"
   ]
  },
  {
   "cell_type": "code",
   "execution_count": 240,
   "metadata": {},
   "outputs": [
    {
     "data": {
      "text/html": [
       "<div>\n",
       "<style scoped>\n",
       "    .dataframe tbody tr th:only-of-type {\n",
       "        vertical-align: middle;\n",
       "    }\n",
       "\n",
       "    .dataframe tbody tr th {\n",
       "        vertical-align: top;\n",
       "    }\n",
       "\n",
       "    .dataframe thead th {\n",
       "        text-align: right;\n",
       "    }\n",
       "</style>\n",
       "<table border=\"1\" class=\"dataframe\">\n",
       "  <thead>\n",
       "    <tr style=\"text-align: right;\">\n",
       "      <th></th>\n",
       "      <th>name</th>\n",
       "      <th>latitud</th>\n",
       "      <th>longitud</th>\n",
       "    </tr>\n",
       "  </thead>\n",
       "  <tbody>\n",
       "    <tr>\n",
       "      <th>0</th>\n",
       "      <td>Straits</td>\n",
       "      <td>37.321755</td>\n",
       "      <td>-121.948249</td>\n",
       "    </tr>\n",
       "  </tbody>\n",
       "</table>\n",
       "</div>"
      ],
      "text/plain": [
       "      name    latitud    longitud\n",
       "0  Straits  37.321755 -121.948249"
      ]
     },
     "execution_count": 240,
     "metadata": {},
     "output_type": "execute_result"
    }
   ],
   "source": [
    "df_1 = pd.DataFrame(lst_1)\n",
    "df_1\n",
    "# And voilá! We got our dataframe of the vegan restaurant."
   ]
  },
  {
   "cell_type": "code",
   "execution_count": 254,
   "metadata": {},
   "outputs": [],
   "source": [
    "# Now, we look for schools nearby too!\n",
    "# The radius selected is just 10km, so our workers can drop the kids close to work and they don't lose much time!\n",
    "url2 = f'https://maps.googleapis.com/maps/api/place/nearbysearch/json?location=37.370036,-121.963527&radius=10000&type=school&key={tok}'"
   ]
  },
  {
   "cell_type": "code",
   "execution_count": 255,
   "metadata": {},
   "outputs": [
    {
     "data": {
      "text/plain": [
       "200"
      ]
     },
     "execution_count": 255,
     "metadata": {},
     "output_type": "execute_result"
    }
   ],
   "source": [
    "response2 = requests.get(url2)\n",
    "response2.status_code"
   ]
  },
  {
   "cell_type": "code",
   "execution_count": 259,
   "metadata": {},
   "outputs": [
    {
     "data": {
      "text/plain": [
       "{'business_status': 'OPERATIONAL',\n",
       " 'geometry': {'location': {'lat': 37.3285963, 'lng': -121.9240877},\n",
       "  'viewport': {'northeast': {'lat': 37.3301453, 'lng': -121.9225805},\n",
       "   'southwest': {'lat': 37.3273321, 'lng': -121.9269653}}},\n",
       " 'icon': 'https://maps.gstatic.com/mapfiles/place_api/icons/v1/png_71/school-71.png',\n",
       " 'name': 'Abraham Lincoln High School',\n",
       " 'opening_hours': {'open_now': False},\n",
       " 'photos': [{'height': 3036,\n",
       "   'html_attributions': ['<a href=\"https://maps.google.com/maps/contrib/103892460314935132637\">Raf Jaffarove</a>'],\n",
       "   'photo_reference': 'ATtYBwKXTFyaEVt8ybSQdm8x4gf3UHWweJrST6nbbl6msJ-NFMB2evKyrnTLE0i7o-wWbY9qDnO1vLAXxKaydmhjlhz3jI25gVaEIy3O0Ze0yRPVVKZo5d5jhD96PBacX5W7wCXuSfUXP_3JkGW1x-uz_NNJpBIKW-OfjxtB3hN9NyV-82F9',\n",
       "   'width': 4048}],\n",
       " 'place_id': 'ChIJaT4HshbLj4AR61_lyDsnl7s',\n",
       " 'plus_code': {'compound_code': '83HG+C9 San Jose, CA, USA',\n",
       "  'global_code': '849W83HG+C9'},\n",
       " 'rating': 4,\n",
       " 'reference': 'ChIJaT4HshbLj4AR61_lyDsnl7s',\n",
       " 'scope': 'GOOGLE',\n",
       " 'types': ['secondary_school', 'school', 'point_of_interest', 'establishment'],\n",
       " 'user_ratings_total': 40,\n",
       " 'vicinity': '555 Dana Avenue, San Jose'}"
      ]
     },
     "execution_count": 259,
     "metadata": {},
     "output_type": "execute_result"
    }
   ],
   "source": [
    "data2 = response2.json()\n",
    "j = data2[\"results\"]\n",
    "j_ = j[1]\n",
    "j_\n",
    "\n",
    "# We selected a High School because we don't really know our workers kids age, so we assume they are kids/adolescents."
   ]
  },
  {
   "cell_type": "code",
   "execution_count": 260,
   "metadata": {},
   "outputs": [],
   "source": [
    "# We start to get into the .json file step by step and accessing to our desired values too:\n",
    "l_2 = j_[\"geometry\"]\n",
    "l_3 = j_[\"geometry\"]\n",
    "name_2 = j_[\"name\"]\n",
    "la_2 = l_2[\"location\"]\n",
    "lo_2 = l_3[\"location\"]\n",
    "lat_2 = la_2[\"lat\"]\n",
    "lon_2 = lo_2[\"lng\"]"
   ]
  },
  {
   "cell_type": "code",
   "execution_count": 261,
   "metadata": {},
   "outputs": [],
   "source": [
    "# Dict and list of it again!\n",
    "lst_2 = []\n",
    "tolist_2 = {}\n",
    "tolist_2[\"name\"] = name_2\n",
    "tolist_2[\"latitud\"] = lat_2\n",
    "tolist_2[\"longitud\"] = lon_2\n",
    "lst_2.append(tolist_2)"
   ]
  },
  {
   "cell_type": "code",
   "execution_count": 262,
   "metadata": {
    "scrolled": true
   },
   "outputs": [
    {
     "data": {
      "text/html": [
       "<div>\n",
       "<style scoped>\n",
       "    .dataframe tbody tr th:only-of-type {\n",
       "        vertical-align: middle;\n",
       "    }\n",
       "\n",
       "    .dataframe tbody tr th {\n",
       "        vertical-align: top;\n",
       "    }\n",
       "\n",
       "    .dataframe thead th {\n",
       "        text-align: right;\n",
       "    }\n",
       "</style>\n",
       "<table border=\"1\" class=\"dataframe\">\n",
       "  <thead>\n",
       "    <tr style=\"text-align: right;\">\n",
       "      <th></th>\n",
       "      <th>name</th>\n",
       "      <th>latitud</th>\n",
       "      <th>longitud</th>\n",
       "    </tr>\n",
       "  </thead>\n",
       "  <tbody>\n",
       "    <tr>\n",
       "      <th>0</th>\n",
       "      <td>Abraham Lincoln High School</td>\n",
       "      <td>37.328596</td>\n",
       "      <td>-121.924088</td>\n",
       "    </tr>\n",
       "  </tbody>\n",
       "</table>\n",
       "</div>"
      ],
      "text/plain": [
       "                          name    latitud    longitud\n",
       "0  Abraham Lincoln High School  37.328596 -121.924088"
      ]
     },
     "execution_count": 262,
     "metadata": {},
     "output_type": "execute_result"
    }
   ],
   "source": [
    "df_2 = pd.DataFrame(lst_2)\n",
    "df_2\n",
    "# And finally! Our school appears:"
   ]
  },
  {
   "cell_type": "code",
   "execution_count": 264,
   "metadata": {
    "scrolled": true
   },
   "outputs": [
    {
     "data": {
      "text/html": [
       "<div>\n",
       "<style scoped>\n",
       "    .dataframe tbody tr th:only-of-type {\n",
       "        vertical-align: middle;\n",
       "    }\n",
       "\n",
       "    .dataframe tbody tr th {\n",
       "        vertical-align: top;\n",
       "    }\n",
       "\n",
       "    .dataframe thead th {\n",
       "        text-align: right;\n",
       "    }\n",
       "</style>\n",
       "<table border=\"1\" class=\"dataframe\">\n",
       "  <thead>\n",
       "    <tr style=\"text-align: right;\">\n",
       "      <th></th>\n",
       "      <th>name</th>\n",
       "      <th>latitud</th>\n",
       "      <th>longitud</th>\n",
       "    </tr>\n",
       "  </thead>\n",
       "  <tbody>\n",
       "    <tr>\n",
       "      <th>0</th>\n",
       "      <td>Norman Y. Mineta San Jose International Airport</td>\n",
       "      <td>37.363947</td>\n",
       "      <td>-121.928938</td>\n",
       "    </tr>\n",
       "    <tr>\n",
       "      <th>0</th>\n",
       "      <td>Straits</td>\n",
       "      <td>37.321755</td>\n",
       "      <td>-121.948249</td>\n",
       "    </tr>\n",
       "    <tr>\n",
       "      <th>0</th>\n",
       "      <td>Abraham Lincoln High School</td>\n",
       "      <td>37.328596</td>\n",
       "      <td>-121.924088</td>\n",
       "    </tr>\n",
       "  </tbody>\n",
       "</table>\n",
       "</div>"
      ],
      "text/plain": [
       "                                              name    latitud    longitud\n",
       "0  Norman Y. Mineta San Jose International Airport  37.363947 -121.928938\n",
       "0                                          Straits  37.321755 -121.948249\n",
       "0                      Abraham Lincoln High School  37.328596 -121.924088"
      ]
     },
     "execution_count": 264,
     "metadata": {},
     "output_type": "execute_result"
    }
   ],
   "source": [
    "# We unite all the places that we needed into a single dataframe in order to map it later:\n",
    "new_df = df.append(df_1)\n",
    "last_df = new_df.append(df_2)\n",
    "last_df"
   ]
  },
  {
   "cell_type": "code",
   "execution_count": 273,
   "metadata": {},
   "outputs": [
    {
     "data": {
      "text/html": [
       "<div>\n",
       "<style scoped>\n",
       "    .dataframe tbody tr th:only-of-type {\n",
       "        vertical-align: middle;\n",
       "    }\n",
       "\n",
       "    .dataframe tbody tr th {\n",
       "        vertical-align: top;\n",
       "    }\n",
       "\n",
       "    .dataframe thead th {\n",
       "        text-align: right;\n",
       "    }\n",
       "</style>\n",
       "<table border=\"1\" class=\"dataframe\">\n",
       "  <thead>\n",
       "    <tr style=\"text-align: right;\">\n",
       "      <th></th>\n",
       "      <th>Unnamed: 0</th>\n",
       "      <th>name</th>\n",
       "      <th>total_money_raised</th>\n",
       "      <th>latitude</th>\n",
       "      <th>longitude</th>\n",
       "    </tr>\n",
       "  </thead>\n",
       "  <tbody>\n",
       "    <tr>\n",
       "      <th>0</th>\n",
       "      <td>0</td>\n",
       "      <td>eBay</td>\n",
       "      <td>$6.7M</td>\n",
       "      <td>37.295005</td>\n",
       "      <td>-121.930035</td>\n",
       "    </tr>\n",
       "    <tr>\n",
       "      <th>1</th>\n",
       "      <td>1</td>\n",
       "      <td>Cisco</td>\n",
       "      <td>$2.5M</td>\n",
       "      <td>37.408802</td>\n",
       "      <td>-121.953770</td>\n",
       "    </tr>\n",
       "    <tr>\n",
       "      <th>2</th>\n",
       "      <td>2</td>\n",
       "      <td>PayPal</td>\n",
       "      <td>$197M</td>\n",
       "      <td>37.294465</td>\n",
       "      <td>-121.927696</td>\n",
       "    </tr>\n",
       "    <tr>\n",
       "      <th>3</th>\n",
       "      <td>3</td>\n",
       "      <td>BlueLithium</td>\n",
       "      <td>$11.5M</td>\n",
       "      <td>37.320520</td>\n",
       "      <td>-121.948399</td>\n",
       "    </tr>\n",
       "    <tr>\n",
       "      <th>4</th>\n",
       "      <td>4</td>\n",
       "      <td>Baynote</td>\n",
       "      <td>$27.8M</td>\n",
       "      <td>37.332271</td>\n",
       "      <td>-122.006539</td>\n",
       "    </tr>\n",
       "  </tbody>\n",
       "</table>\n",
       "</div>"
      ],
      "text/plain": [
       "   Unnamed: 0         name total_money_raised   latitude   longitude\n",
       "0           0         eBay              $6.7M  37.295005 -121.930035\n",
       "1           1        Cisco              $2.5M  37.408802 -121.953770\n",
       "2           2       PayPal              $197M  37.294465 -121.927696\n",
       "3           3  BlueLithium             $11.5M  37.320520 -121.948399\n",
       "4           4      Baynote             $27.8M  37.332271 -122.006539"
      ]
     },
     "execution_count": 273,
     "metadata": {},
     "output_type": "execute_result"
    }
   ],
   "source": [
    "# We load up the dataframe of the companies that we selected previously:\n",
    "com = pd.read_csv('../output/CompaniesCA.csv')\n",
    "com.head()"
   ]
  },
  {
   "cell_type": "code",
   "execution_count": 269,
   "metadata": {
    "scrolled": true
   },
   "outputs": [
    {
     "data": {
      "text/html": [
       "<div style=\"width:100%;\"><div style=\"position:relative;width:100%;height:0;padding-bottom:60%;\"><span style=\"color:#565656\">Make this Notebook Trusted to load map: File -> Trust Notebook</span><iframe src=\"about:blank\" style=\"position:absolute;width:100%;height:100%;left:0;top:0;border:none !important;\" data-html=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 onload=\"this.contentDocument.open();this.contentDocument.write(atob(this.getAttribute('data-html')));this.contentDocument.close();\" allowfullscreen webkitallowfullscreen mozallowfullscreen></iframe></div></div>"
      ],
      "text/plain": [
       "<folium.folium.Map at 0x12b9e3dc0>"
      ]
     },
     "execution_count": 269,
     "metadata": {},
     "output_type": "execute_result"
    }
   ],
   "source": [
    "# We create again a map and we insert all the locations then:\n",
    "\n",
    "map_1 = folium.Map(location = [37.370036,-121.963527], zoom_start = 15)\n",
    "icon = Icon(color = \"blue\",\n",
    "             prefix = \"fa\",\n",
    "             icon = \"building\",\n",
    "             icon_color = \"black\",\n",
    "             tooltip = \"Our Company\"\n",
    ")\n",
    "company = Marker(location=[37.370036,-121.963527], icon=icon)\n",
    "company.add_to(map_1)\n",
    "map_1"
   ]
  },
  {
   "cell_type": "code",
   "execution_count": 275,
   "metadata": {},
   "outputs": [
    {
     "data": {
      "text/html": [
       "<div style=\"width:100%;\"><div style=\"position:relative;width:100%;height:0;padding-bottom:60%;\"><span style=\"color:#565656\">Make this Notebook Trusted to load map: File -> Trust Notebook</span><iframe src=\"about:blank\" style=\"position:absolute;width:100%;height:100%;left:0;top:0;border:none !important;\" data-html=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 onload=\"this.contentDocument.open();this.contentDocument.write(atob(this.getAttribute('data-html')));this.contentDocument.close();\" allowfullscreen webkitallowfullscreen mozallowfullscreen></iframe></div></div>"
      ],
      "text/plain": [
       "<folium.folium.Map at 0x12b9e3dc0>"
      ]
     },
     "execution_count": 275,
     "metadata": {},
     "output_type": "execute_result"
    }
   ],
   "source": [
    "# What we do now is exactly the same thing that we did before in the \"Geo\" notebook. We iterate through our two\n",
    "# dataframes and then we save the info in a dict called \"district\" in order to pinpoint all the locations in our next\n",
    "# beautiful map!\n",
    "\n",
    "for i,row in last_df.iterrows():\n",
    "    #popup distrito\n",
    "    distritc = {\n",
    "        \"location\" : [row[\"latitud\"], row[\"longitud\"]],\n",
    "        \"tooltip\" : row[\"name\"]\n",
    "    }\n",
    "    \n",
    "    if row[\"name\"] == \"Norman Y. Mineta San Jose International Airport\":\n",
    "        icon = Icon( color = \"green\",\n",
    "                    prefix = \"fa\",\n",
    "                    icon = \"plane\",\n",
    "                    icon_color = \"black\"\n",
    "        )\n",
    "    elif row[\"name\"] == \"Straits\":\n",
    "        icon = Icon( color = \"orange\",\n",
    "                    prefix = \"fa\",\n",
    "                    icon = \"registered\",\n",
    "                    icon_color = \"black\"\n",
    "        )\n",
    "    elif row[\"name\"] == \"Abraham Lincoln High School\":\n",
    "        icon = Icon( color = \"red\",\n",
    "                    prefix = \"fa\",\n",
    "                    icon = \"book\",\n",
    "                    icon_color = \"black\"\n",
    "        )\n",
    "    Marker (**distrito,icon = icon).add_to(map_1)\n",
    "    \n",
    "for i,row in com.head().iterrows():\n",
    "    #popup distrito\n",
    "    distritc = {\n",
    "        \"location\" : [row[\"latitude\"], row[\"longitude\"]],\n",
    "        \"tooltip\" : row[\"name\"]\n",
    "    }\n",
    "    \n",
    "    if row[\"name\"] == \"eBay\":\n",
    "        icon = Icon( color = \"lightblue\",\n",
    "                    prefix = \"fa\",\n",
    "                    icon = \"briefcase\",\n",
    "                    icon_color = \"black\"\n",
    "        )\n",
    "    else:\n",
    "        icon = Icon( color = \"lightblue\",\n",
    "                    prefix = \"fa\",\n",
    "                    icon = \"briefcase\",\n",
    "                    icon_color = \"black\"\n",
    "        )\n",
    "    Marker (**distritc,icon = icon).add_to(map_1)\n",
    "\n",
    "map_1\n",
    "\n",
    "# AND FINALLY! WE OUTPUT OUR BEAUTIFUL MAP WITH ALL THE LOCATIONS THAT WE WERE LOOKING FOR! :)"
   ]
  }
 ],
 "metadata": {
  "kernelspec": {
   "display_name": "Python 3",
   "language": "python",
   "name": "python3"
  },
  "language_info": {
   "codemirror_mode": {
    "name": "ipython",
    "version": 3
   },
   "file_extension": ".py",
   "mimetype": "text/x-python",
   "name": "python",
   "nbconvert_exporter": "python",
   "pygments_lexer": "ipython3",
   "version": "3.8.5"
  }
 },
 "nbformat": 4,
 "nbformat_minor": 4
}
